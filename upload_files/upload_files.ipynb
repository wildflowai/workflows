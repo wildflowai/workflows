{
  "nbformat": 4,
  "nbformat_minor": 0,
  "metadata": {
    "colab": {
      "provenance": []
    },
    "kernelspec": {
      "name": "python3",
      "display_name": "Python 3"
    },
    "language_info": {
      "name": "python"
    }
  },
  "cells": [
    {
      "cell_type": "markdown",
      "source": [
        "# VUE to **wildflow**\n",
        "\n",
        "Loads acoustic tag data (downloaded from VUE software) to [**wildflow**](https://wildflow.ai).\n",
        "\n",
        "<img src=\"https://wildflow.ai/_next/static/media/whale.22046cae.jpg\" width=\"300\">\n"
      ],
      "metadata": {
        "id": "E4BkCHE0qQVC"
      }
    },
    {
      "cell_type": "markdown",
      "source": [
        "---\n",
        "# 1. Setup your project details\n",
        "\n",
        "- Please make sure that the details below are correct;\n",
        "- And then run the cell:\n"
      ],
      "metadata": {
        "id": "TEYzhnMdwJjl"
      }
    },
    {
      "cell_type": "code",
      "execution_count": null,
      "metadata": {
        "id": "kk12ureGp_s9"
      },
      "outputs": [],
      "source": [
        "project = 'wildflow-pelagic' #@param {type: \"string\"}\n",
        "path = 'pelagioskakunja/provided-data' #@param {type: \"string\"}\n",
        "\n",
        "print('Your files will be stored here:\\n'+ f'https://console.cloud.google.com/storage/browser/{path}')"
      ]
    },
    {
      "cell_type": "markdown",
      "source": [
        "---\n",
        "# 2. [Optional] Load files from your computer to **wildflow** bucket."
      ],
      "metadata": {
        "id": "8h4BsUnXxDx8"
      }
    },
    {
      "cell_type": "code",
      "source": [
        "!pip install -q google-cloud-storage\n",
        "\n",
        "from google.colab import files, auth\n",
        "from google.cloud import storage\n",
        "from IPython.display import display, Markdown, HTML\n",
        "import os\n",
        "\n",
        "# Authenticate with GCP\n",
        "auth.authenticate_user()\n",
        "\n",
        "# Initialize the GCS client\n",
        "client = storage.Client(project=project)\n",
        "bucket_name, folder_path = path.split('/', 1)\n",
        "bucket = client.get_bucket(bucket_name)\n",
        "\n",
        "# Upload files\n",
        "uploaded = files.upload()\n",
        "\n",
        "uploaded_gcs_paths = []\n",
        "for fn, content in uploaded.items():\n",
        "    blob = bucket.blob(f'{folder_path}/{fn}')\n",
        "    blob.upload_from_string(content)\n",
        "    uploaded_gcs_paths.append(f\"gs://{bucket_name}/{folder_path}/{fn}\")\n",
        "    # Remove the file from the local Colab environment\n",
        "    os.remove(fn)\n",
        "\n",
        "# Display uploaded file paths\n",
        "display(Markdown(\"### Uploaded Files:\"))\n",
        "for file_path in uploaded_gcs_paths:\n",
        "    display(Markdown(f\"- {file_path}\"))\n",
        "\n",
        "# Generate and display the GCS link\n",
        "gcs_link = f'https://console.cloud.google.com/storage/browser/{path}'\n",
        "display(HTML(f'Your files have been stored <a href=\"{gcs_link}\" target=\"_blank\">here</a>.'))\n"
      ],
      "metadata": {
        "id": "Y-AnOTAgufNj"
      },
      "execution_count": null,
      "outputs": []
    }
  ]
}